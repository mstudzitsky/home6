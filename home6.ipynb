{
 "cells": [
  {
   "cell_type": "code",
   "execution_count": 227,
   "metadata": {},
   "outputs": [],
   "source": [
    "from sklearn import datasets\n",
    "import pandas as pd\n",
    "import numpy as np"
   ]
  },
  {
   "cell_type": "code",
   "execution_count": 228,
   "metadata": {},
   "outputs": [],
   "source": [
    "iris = datasets.load_iris()"
   ]
  },
  {
   "cell_type": "code",
   "execution_count": 229,
   "metadata": {},
   "outputs": [
    {
     "data": {
      "text/html": [
       "<div>\n",
       "<style scoped>\n",
       "    .dataframe tbody tr th:only-of-type {\n",
       "        vertical-align: middle;\n",
       "    }\n",
       "\n",
       "    .dataframe tbody tr th {\n",
       "        vertical-align: top;\n",
       "    }\n",
       "\n",
       "    .dataframe thead th {\n",
       "        text-align: right;\n",
       "    }\n",
       "</style>\n",
       "<table border=\"1\" class=\"dataframe\">\n",
       "  <thead>\n",
       "    <tr style=\"text-align: right;\">\n",
       "      <th></th>\n",
       "      <th>sepal length (cm)</th>\n",
       "      <th>sepal width (cm)</th>\n",
       "      <th>petal length (cm)</th>\n",
       "      <th>petal width (cm)</th>\n",
       "    </tr>\n",
       "  </thead>\n",
       "  <tbody>\n",
       "    <tr>\n",
       "      <th>0</th>\n",
       "      <td>5.1</td>\n",
       "      <td>3.5</td>\n",
       "      <td>1.4</td>\n",
       "      <td>0.2</td>\n",
       "    </tr>\n",
       "    <tr>\n",
       "      <th>1</th>\n",
       "      <td>4.9</td>\n",
       "      <td>3.0</td>\n",
       "      <td>1.4</td>\n",
       "      <td>0.2</td>\n",
       "    </tr>\n",
       "    <tr>\n",
       "      <th>2</th>\n",
       "      <td>4.7</td>\n",
       "      <td>3.2</td>\n",
       "      <td>1.3</td>\n",
       "      <td>0.2</td>\n",
       "    </tr>\n",
       "    <tr>\n",
       "      <th>3</th>\n",
       "      <td>4.6</td>\n",
       "      <td>3.1</td>\n",
       "      <td>1.5</td>\n",
       "      <td>0.2</td>\n",
       "    </tr>\n",
       "    <tr>\n",
       "      <th>4</th>\n",
       "      <td>5.0</td>\n",
       "      <td>3.6</td>\n",
       "      <td>1.4</td>\n",
       "      <td>0.2</td>\n",
       "    </tr>\n",
       "  </tbody>\n",
       "</table>\n",
       "</div>"
      ],
      "text/plain": [
       "   sepal length (cm)  sepal width (cm)  petal length (cm)  petal width (cm)\n",
       "0                5.1               3.5                1.4               0.2\n",
       "1                4.9               3.0                1.4               0.2\n",
       "2                4.7               3.2                1.3               0.2\n",
       "3                4.6               3.1                1.5               0.2\n",
       "4                5.0               3.6                1.4               0.2"
      ]
     },
     "execution_count": 229,
     "metadata": {},
     "output_type": "execute_result"
    }
   ],
   "source": [
    "X=pd.DataFrame(iris.data, columns=iris.feature_names)\n",
    "X.head()"
   ]
  },
  {
   "cell_type": "code",
   "execution_count": 230,
   "metadata": {},
   "outputs": [],
   "source": [
    "X['target'] = iris.target"
   ]
  },
  {
   "cell_type": "code",
   "execution_count": 231,
   "metadata": {},
   "outputs": [],
   "source": [
    "X = X.drop(X[X['target'] == 0].index)\n",
    "X.reset_index(inplace=True)\n",
    "X = X.drop(['index'],axis=1)\n",
    "X['target'] = X['target'] - 1\n",
    "Y = X['target']\n",
    "X = X.drop(['target'],axis=1)"
   ]
  },
  {
   "cell_type": "code",
   "execution_count": 232,
   "metadata": {},
   "outputs": [],
   "source": [
    "from sklearn.preprocessing import StandardScaler"
   ]
  },
  {
   "cell_type": "code",
   "execution_count": 233,
   "metadata": {},
   "outputs": [],
   "source": [
    "sc = StandardScaler()"
   ]
  },
  {
   "cell_type": "code",
   "execution_count": 234,
   "metadata": {},
   "outputs": [],
   "source": [
    "X=sc.fit_transform(X)"
   ]
  },
  {
   "cell_type": "code",
   "execution_count": 235,
   "metadata": {},
   "outputs": [
    {
     "data": {
      "text/plain": [
       "array([-0.67299592,  0.67288638, -1.01751979, -0.15948077,  0.23531439])"
      ]
     },
     "execution_count": 235,
     "metadata": {},
     "output_type": "execute_result"
    }
   ],
   "source": [
    "params = np.random.normal(size=(5,))\n",
    "params"
   ]
  },
  {
   "cell_type": "code",
   "execution_count": 236,
   "metadata": {},
   "outputs": [
    {
     "name": "stdout",
     "output_type": "stream",
     "text": [
      "22.486529984701654 22.486598461331752\n"
     ]
    }
   ],
   "source": [
    "LEARNING_RATE = 0.0001\n",
    "precision = 0.0001\n",
    "l_old = 0\n",
    "l_new = 2\n",
    "while np.abs(l_new -l_old) > precision:\n",
    "    l_old = l_new\n",
    "    Ht = params[0]+params[1]*X[:,0]+params[2]*X[:,1]+params[3]*X[:,2]+params[4]*X[:,3]\n",
    "    Y_pred = 1/(1+np.exp(-Ht))\n",
    "    l_new = - np.sum((Y * np.log(Y_pred)) + ((1. - Y) * np.log(1. - Y_pred)))\n",
    "    params[0] -= LEARNING_RATE * np.sum((1-Y)*np.exp(-Ht)/(np.square(np.exp(-Ht)+1)*(1-1/(np.exp(-Ht)+1))) - (Y*np.exp(-Ht))/(np.exp(-Ht)+1))\n",
    "    params[1] -= LEARNING_RATE * np.sum(X[:,0]*(1-Y)*np.exp(-Ht)/(np.exp(-Ht)+1)- (X[:,0]*(Y-1)*np.exp(-Ht))/(np.square(np.exp(-Ht)+1)*(1-1/(np.exp(-Ht)+1))))\n",
    "    params[2] -= LEARNING_RATE * np.sum(X[:,1]*(1-Y)*np.exp(-Ht)/(np.exp(-Ht)+1) - X[:,1]*(Y-1)*np.exp(-Ht)/(np.square(np.exp(-Ht)+1)*(1-1/(np.exp(-Ht)+1))) )\n",
    "    params[3] -= LEARNING_RATE * np.sum(X[:,2]*(1-Y)*np.exp(-Ht)/(np.exp(-Ht)+1) - X[:,2]*(Y-1)*np.exp(-Ht)/(np.square(np.exp(-Ht)+1)*(1-1/(np.exp(-Ht)+1))) )\n",
    "    params[4] -= LEARNING_RATE * np.sum(X[:,3]*(1-Y)*np.exp(-Ht)/(np.exp(-Ht)+1) - X[:,3]*(Y-1)*np.exp(-Ht)/(np.square(np.exp(-Ht)+1)*(1-1/(np.exp(-Ht)+1))) )\n",
    "print(l_new, l_old)"
   ]
  },
  {
   "cell_type": "code",
   "execution_count": 237,
   "metadata": {},
   "outputs": [
    {
     "data": {
      "text/plain": [
       "array([-0.31720568,  1.87651888, -0.26734553,  1.75546082,  2.25180918])"
      ]
     },
     "execution_count": 237,
     "metadata": {},
     "output_type": "execute_result"
    }
   ],
   "source": [
    "params"
   ]
  },
  {
   "cell_type": "code",
   "execution_count": 238,
   "metadata": {},
   "outputs": [],
   "source": [
    "import matplotlib.pyplot as plt\n",
    "%matplotlib inline"
   ]
  },
  {
   "cell_type": "code",
   "execution_count": 239,
   "metadata": {},
   "outputs": [
    {
     "data": {
      "text/plain": [
       "Text(0, 0.5, 'Y_pred')"
      ]
     },
     "execution_count": 239,
     "metadata": {},
     "output_type": "execute_result"
    },
    {
     "data": {
      "image/png": "[encoded data removed]",
      "text/plain": [
       "<Figure size 432x288 with 1 Axes>"
      ]
     },
     "metadata": {
      "needs_background": "light"
     },
     "output_type": "display_data"
    }
   ],
   "source": [
    "plt.scatter(X[:,0], Y_pred, c=Y, edgecolors='k', cmap=plt.cm.Paired)\n",
    "plt.xlabel('Sepal width')\n",
    "plt.ylabel('Y_pred')"
   ]
  },
  {
   "cell_type": "markdown",
   "metadata": {},
   "source": [
    "Метод Нестерова"
   ]
  },
  {
   "cell_type": "code",
   "execution_count": 240,
   "metadata": {},
   "outputs": [
    {
     "data": {
      "text/plain": [
       "array([-1.71106206,  1.24930218,  0.16744969, -0.90893178, -1.04629704])"
      ]
     },
     "execution_count": 240,
     "metadata": {},
     "output_type": "execute_result"
    }
   ],
   "source": [
    "params = np.random.normal(size=(5,))\n",
    "params"
   ]
  },
  {
   "cell_type": "code",
   "execution_count": 241,
   "metadata": {},
   "outputs": [
    {
     "name": "stdout",
     "output_type": "stream",
     "text": [
      "68.85994940947126 68.85999069119346\n"
     ]
    }
   ],
   "source": [
    "LEARNING_RATE = 0.0001\n",
    "precision = 0.0001\n",
    "l_old = 0\n",
    "l_new = 2\n",
    "gamma = 0.9\n",
    "\n",
    "while np.abs(l_new -l_old) > precision:\n",
    "    l_old = l_new\n",
    "    Ht = params[0]+params[1]*X[:,0]+params[2]*X[:,1]+params[3]*X[:,2]+params[4]*X[:,3]\n",
    "    Y_pred = 1/(1+np.exp(-Ht))\n",
    "    l_new = - np.sum((Y * np.log(Y_pred)) + ((1. - Y) * np.log(1. - Y_pred)))\n",
    "    v0 = gamma*params[0] + LEARNING_RATE * np.sum((1-Y)*np.exp(-Ht)/(np.square(np.exp(-Ht)+1)*(1-1/(np.exp(-Ht)+1))) - (Y*np.exp(-Ht))/(np.exp(-Ht)+1))\n",
    "    params[0] -= v0\n",
    "    v1 = gamma*params[1] + LEARNING_RATE * np.sum(X[:,0]*(1-Y)*np.exp(-Ht)/(np.exp(-Ht)+1)- (X[:,0]*(Y-1)*np.exp(-Ht))/(np.square(np.exp(-Ht)+1)*(1-1/(np.exp(-Ht)+1))))\n",
    "    params[1] -= v1\n",
    "    v2 = gamma*params[2] + LEARNING_RATE * np.sum(X[:,1]*(1-Y)*np.exp(-Ht)/(np.exp(-Ht)+1) - X[:,1]*(Y-1)*np.exp(-Ht)/(np.square(np.exp(-Ht)+1)*(1-1/(np.exp(-Ht)+1))) )\n",
    "    params[2] -= v2\n",
    "    v3 = gamma*params[3] + LEARNING_RATE * np.sum(X[:,2]*(1-Y)*np.exp(-Ht)/(np.exp(-Ht)+1) - X[:,2]*(Y-1)*np.exp(-Ht)/(np.square(np.exp(-Ht)+1)*(1-1/(np.exp(-Ht)+1))) )\n",
    "    params[3] -= v3\n",
    "    v4 = gamma*params[4] + LEARNING_RATE * np.sum(X[:,3]*(1-Y)*np.exp(-Ht)/(np.exp(-Ht)+1) - X[:,3]*(Y-1)*np.exp(-Ht)/(np.square(np.exp(-Ht)+1)*(1-1/(np.exp(-Ht)+1))) )\n",
    "    params[4] -= v4\n",
    "print(l_new, l_old)"
   ]
  },
  {
   "cell_type": "code",
   "execution_count": 242,
   "metadata": {},
   "outputs": [
    {
     "data": {
      "text/plain": [
       "array([-1.40737276e-08,  2.74615093e-03,  1.71155600e-03,  4.36901115e-03,\n",
       "        4.60070770e-03])"
      ]
     },
     "execution_count": 242,
     "metadata": {},
     "output_type": "execute_result"
    }
   ],
   "source": [
    "params"
   ]
  },
  {
   "cell_type": "code",
   "execution_count": 243,
   "metadata": {},
   "outputs": [
    {
     "data": {
      "text/plain": [
       "Text(0, 0.5, 'Y_pred')"
      ]
     },
     "execution_count": 243,
     "metadata": {},
     "output_type": "execute_result"
    },
    {
     "data": {
      "image/png": "[encoded data removed]",
      "text/plain": [
       "<Figure size 432x288 with 1 Axes>"
      ]
     },
     "metadata": {
      "needs_background": "light"
     },
     "output_type": "display_data"
    }
   ],
   "source": [
    "plt.scatter(X[:,0], Y_pred, c=Y, edgecolors='k', cmap=plt.cm.Paired)\n",
    "plt.xlabel('Sepal width')\n",
    "plt.ylabel('Y_pred')"
   ]
  },
  {
   "cell_type": "markdown",
   "metadata": {},
   "source": [
    "Методом rmsprop"
   ]
  },
  {
   "cell_type": "code",
   "execution_count": 244,
   "metadata": {},
   "outputs": [
    {
     "data": {
      "text/plain": [
       "array([-1.07050997,  2.42375695, -0.28675238, -1.21156644, -1.14438522])"
      ]
     },
     "execution_count": 244,
     "metadata": {},
     "output_type": "execute_result"
    }
   ],
   "source": [
    "params = np.random.normal(size=(5,))\n",
    "params"
   ]
  },
  {
   "cell_type": "code",
   "execution_count": 245,
   "metadata": {},
   "outputs": [
    {
     "name": "stdout",
     "output_type": "stream",
     "text": [
      "77.90553557217602 77.90563545359625\n"
     ]
    }
   ],
   "source": [
    "LEARNING_RATE = 0.0001\n",
    "precision = 0.0001\n",
    "l_old = 0\n",
    "l_new = 2\n",
    "gamma = 0.9\n",
    "eps = 0.0000001\n",
    "E = [0,0,0,0,0]\n",
    "\n",
    "while np.abs(l_new - l_old) > precision:\n",
    "    l_old = l_new\n",
    "    Ht = params[0]+params[1]*X[:,0]+params[2]*X[:,1]+params[3]*X[:,2]+params[4]*X[:,3]\n",
    "    Y_pred = 1/(1+np.exp(-Ht))\n",
    "    l_new = - np.sum((Y * np.log(Y_pred)) + ((1. - Y) * np.log(1. - Y_pred)))\n",
    "    g0 = np.sum((1-Y)*np.exp(-Ht)/(np.square(np.exp(-Ht)+1)*(1-1/(np.exp(-Ht)+1))) - (Y*np.exp(-Ht))/(np.exp(-Ht)+1))\n",
    "    E[0] = gamma*E[0] + (1-gamma)*np.square(g0)\n",
    "    params[0] -= LEARNING_RATE/np.sqrt(E[0]+eps)*g0\n",
    "    g1 = np.sum(X[:,0]*(1-Y)*np.exp(-Ht)/(np.exp(-Ht)+1)- (X[:,0]*(Y-1)*np.exp(-Ht))/(np.square(np.exp(-Ht)+1)*(1-1/(np.exp(-Ht)+1)))) \n",
    "    E[1] = gamma*E[1] + (1-gamma)*np.square(g1)\n",
    "    params[1] -= LEARNING_RATE/np.sqrt(E[1]+eps)*g1\n",
    "    g2 = np.sum(X[:,1]*(1-Y)*np.exp(-Ht)/(np.exp(-Ht)+1) - X[:,1]*(Y-1)*np.exp(-Ht)/(np.square(np.exp(-Ht)+1)*(1-1/(np.exp(-Ht)+1))) )\n",
    "    E[2] = gamma*E[2] + (1-gamma)*np.square(g2)\n",
    "    params[2] -= LEARNING_RATE/np.sqrt(E[2]+eps)*g2\n",
    "    g3 = np.sum(X[:,2]*(1-Y)*np.exp(-Ht)/(np.exp(-Ht)+1) - X[:,2]*(Y-1)*np.exp(-Ht)/(np.square(np.exp(-Ht)+1)*(1-1/(np.exp(-Ht)+1))) )\n",
    "    E[3] = gamma*E[3] + (1-gamma)*np.square(g3)\n",
    "    params[3] -= LEARNING_RATE/np.sqrt(E[3]+eps)*g3\n",
    "    g4 = np.sum(X[:,3]*(1-Y)*np.exp(-Ht)/(np.exp(-Ht)+1) - X[:,3]*(Y-1)*np.exp(-Ht)/(np.square(np.exp(-Ht)+1)*(1-1/(np.exp(-Ht)+1))) )\n",
    "    E[4] = gamma*E[4] + (1-gamma)*np.square(g4)\n",
    "    params[4] -= LEARNING_RATE/np.sqrt(E[4]+eps)*g4\n",
    "\n",
    "print(l_new, l_old)"
   ]
  },
  {
   "cell_type": "code",
   "execution_count": 249,
   "metadata": {},
   "outputs": [
    {
     "data": {
      "text/plain": [
       "array([0.13713793, 3.65997112, 0.94946179, 0.02464773, 0.09182895])"
      ]
     },
     "execution_count": 249,
     "metadata": {},
     "output_type": "execute_result"
    }
   ],
   "source": [
    "params"
   ]
  },
  {
   "cell_type": "code",
   "execution_count": 247,
   "metadata": {},
   "outputs": [
    {
     "data": {
      "text/plain": [
       "Text(0, 0.5, 'Y_pred')"
      ]
     },
     "execution_count": 247,
     "metadata": {},
     "output_type": "execute_result"
    },
    {
     "data": {
      "image/png": "[encoded data removed]",
      "text/plain": [
       "<Figure size 432x288 with 1 Axes>"
      ]
     },
     "metadata": {
      "needs_background": "light"
     },
     "output_type": "display_data"
    }
   ],
   "source": [
    "plt.scatter(X[:,0], Y_pred, c=Y, edgecolors='k', cmap=plt.cm.Paired)\n",
    "plt.xlabel('Sepal width')\n",
    "plt.ylabel('Y_pred')"
   ]
  }
 ],
 "metadata": {
  "kernelspec": {
   "display_name": "Python 3",
   "language": "python",
   "name": "python3"
  },
  "language_info": {
   "codemirror_mode": {
    "name": "ipython",
    "version": 3
   },
   "file_extension": ".py",
   "mimetype": "text/x-python",
   "name": "python",
   "nbconvert_exporter": "python",
   "pygments_lexer": "ipython3",
   "version": "3.7.1"
  }
 },
 "nbformat": 4,
 "nbformat_minor": 2
}
